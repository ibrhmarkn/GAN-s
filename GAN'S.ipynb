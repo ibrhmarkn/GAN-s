{
  "nbformat": 4,
  "nbformat_minor": 0,
  "metadata": {
    "colab": {
      "name": "GAN'S.ipynb",
      "provenance": []
    },
    "kernelspec": {
      "name": "python3",
      "display_name": "Python 3"
    },
    "language_info": {
      "name": "python"
    },
    "accelerator": "GPU"
  },
  "cells": [
    {
      "cell_type": "code",
      "metadata": {
        "id": "ZMLu0wAGEEpW"
      },
      "source": [
        "from keras.layers import Dense, Dropout, Input, ReLU\n",
        "from keras.models import Model, Sequential\n",
        "from keras.optimizers import Adam\n",
        "from keras.datasets import mnist\n",
        "import numpy as np\n",
        "import matplotlib.pyplot as plt\n"
      ],
      "execution_count": 2,
      "outputs": []
    },
    {
      "cell_type": "markdown",
      "metadata": {
        "id": "Ms_7_hWoxVmm"
      },
      "source": [
        "Veri Setimiz keras kütüphanesinde hali hazırda tanımlı."
      ]
    },
    {
      "cell_type": "code",
      "metadata": {
        "colab": {
          "base_uri": "https://localhost:8080/"
        },
        "id": "nnBbyDw3xZ9X",
        "outputId": "9039681c-6069-46f9-ebc7-3b5723e2add8"
      },
      "source": [
        "(x_train, y_train), (x_test, y_test) = mnist.load_data()"
      ],
      "execution_count": 3,
      "outputs": [
        {
          "output_type": "stream",
          "text": [
            "Downloading data from https://storage.googleapis.com/tensorflow/tf-keras-datasets/mnist.npz\n",
            "11493376/11490434 [==============================] - 0s 0us/step\n"
          ],
          "name": "stdout"
        }
      ]
    },
    {
      "cell_type": "markdown",
      "metadata": {
        "id": "PHyXxvLax68m"
      },
      "source": [
        "Normalizasyon"
      ]
    },
    {
      "cell_type": "code",
      "metadata": {
        "id": "8pJqwUAlxv4M"
      },
      "source": [
        "x_train = (x_train.astype(np.float32)-127.5)/127.5"
      ],
      "execution_count": 4,
      "outputs": []
    },
    {
      "cell_type": "code",
      "metadata": {
        "colab": {
          "base_uri": "https://localhost:8080/"
        },
        "id": "csDNxI7AyFQ2",
        "outputId": "91e7fde5-554a-4506-8765-3c35d6672378"
      },
      "source": [
        "print(x_train.shape)"
      ],
      "execution_count": 6,
      "outputs": [
        {
          "output_type": "stream",
          "text": [
            "(60000, 28, 28)\n"
          ],
          "name": "stdout"
        }
      ]
    },
    {
      "cell_type": "markdown",
      "metadata": {
        "id": "3Pb06OxVyX4H"
      },
      "source": [
        "Veri setimizi yeniden boyutlandırıyoruz."
      ]
    },
    {
      "cell_type": "code",
      "metadata": {
        "id": "uihDoJ-1yLSd"
      },
      "source": [
        "x_train = x_train.reshape(x_train.shape[0],x_train.shape[1]*x_train.shape[2])"
      ],
      "execution_count": 7,
      "outputs": []
    },
    {
      "cell_type": "code",
      "metadata": {
        "colab": {
          "base_uri": "https://localhost:8080/"
        },
        "id": "g5uw1hirycyw",
        "outputId": "421789b8-f043-4a11-9830-a8b379f8d4a7"
      },
      "source": [
        "print(x_train.shape)"
      ],
      "execution_count": 8,
      "outputs": [
        {
          "output_type": "stream",
          "text": [
            "(60000, 784)\n"
          ],
          "name": "stdout"
        }
      ]
    },
    {
      "cell_type": "code",
      "metadata": {
        "colab": {
          "base_uri": "https://localhost:8080/",
          "height": 248
        },
        "id": "sRXuZjBUyf22",
        "outputId": "b3c7bede-2adc-4d0c-effb-6493990c5e2a"
      },
      "source": [
        "plt.imshow(x_test[11])\n",
        "plt.axis('off')\n",
        "plt.show()"
      ],
      "execution_count": 10,
      "outputs": [
        {
          "output_type": "display_data",
          "data": {
            "image/png": "[encoded data removed]",
            "text/plain": [
              "<Figure size 432x288 with 1 Axes>"
            ]
          },
          "metadata": {
            "tags": [],
            "needs_background": "light"
          }
        }
      ]
    },
    {
      "cell_type": "markdown",
      "metadata": {
        "id": "xJLLL0bzyvBM"
      },
      "source": [
        "Üretici Model Oluşturma"
      ]
    },
    {
      "cell_type": "code",
      "metadata": {
        "id": "1OpMvrrWyr9g"
      },
      "source": [
        "def create_generator():\n",
        "  generator = Sequential()\n",
        "  generator.add(Dense(units=512, input_dim= 100))\n",
        "  generator.add(ReLU())\n",
        "  generator.add(Dense(units=512))\n",
        "  generator.add(ReLU())\n",
        "  generator.add(Dense(units=1024))\n",
        "  generator.add(ReLU())\n",
        "  generator.add(Dense(units=784 ,activation='tanh'))\n",
        "\n",
        "  generator.compile(loss='binary_crossentropy',optimizer  =Adam(lr = 0.0001,beta_1 = 0.5))\n",
        "\n",
        "  return generator\n"
      ],
      "execution_count": 18,
      "outputs": []
    },
    {
      "cell_type": "code",
      "metadata": {
        "colab": {
          "base_uri": "https://localhost:8080/"
        },
        "id": "jkFXQYsdz6v_",
        "outputId": "47218aad-e284-4957-f644-d7f789ab84ca"
      },
      "source": [
        "g = create_generator()\n",
        "g.summary()"
      ],
      "execution_count": 19,
      "outputs": [
        {
          "output_type": "stream",
          "text": [
            "Model: \"sequential_2\"\n",
            "_________________________________________________________________\n",
            "Layer (type)                 Output Shape              Param #   \n",
            "=================================================================\n",
            "dense_8 (Dense)              (None, 512)               51712     \n",
            "_________________________________________________________________\n",
            "re_lu_6 (ReLU)               (None, 512)               0         \n",
            "_________________________________________________________________\n",
            "dense_9 (Dense)              (None, 512)               262656    \n",
            "_________________________________________________________________\n",
            "re_lu_7 (ReLU)               (None, 512)               0         \n",
            "_________________________________________________________________\n",
            "dense_10 (Dense)             (None, 1024)              525312    \n",
            "_________________________________________________________________\n",
            "re_lu_8 (ReLU)               (None, 1024)              0         \n",
            "_________________________________________________________________\n",
            "dense_11 (Dense)             (None, 784)               803600    \n",
            "=================================================================\n",
            "Total params: 1,643,280\n",
            "Trainable params: 1,643,280\n",
            "Non-trainable params: 0\n",
            "_________________________________________________________________\n"
          ],
          "name": "stdout"
        }
      ]
    },
    {
      "cell_type": "markdown",
      "metadata": {
        "id": "qEnadrvg0LQz"
      },
      "source": [
        "Ayrımcı model "
      ]
    },
    {
      "cell_type": "code",
      "metadata": {
        "id": "ar45S3HN0X88"
      },
      "source": [
        "def create_discriminator():\n",
        "\n",
        "  discriminator = Sequential()\n",
        "  discriminator.add(Dense(units=1024, input_dim= 784))\n",
        "  discriminator.add(ReLU())\n",
        "  discriminator.add(Dropout(0.4))\n",
        "\n",
        "  discriminator.add(Dense(units=512))\n",
        "  discriminator.add(ReLU())\n",
        "  discriminator.add(Dropout(0.4))\n",
        "\n",
        "  discriminator.add(Dense(units=256))\n",
        "  discriminator.add(ReLU())\n",
        "\n",
        "  discriminator.add(Dense(units=1, activation='sigmoid'))\n",
        "\n",
        "  discriminator.compile(loss='binary_crossentropy',optimizer  =Adam(lr = 0.0001,beta_1 = 0.5))\n",
        "  \n",
        "  return discriminator\n",
        "\n",
        "\n",
        "\n",
        "\n",
        "\n"
      ],
      "execution_count": 21,
      "outputs": []
    },
    {
      "cell_type": "code",
      "metadata": {
        "colab": {
          "base_uri": "https://localhost:8080/"
        },
        "id": "uWvzNgQH1Z2B",
        "outputId": "1c0606eb-eb91-4bd8-b301-de4dd5fc96af"
      },
      "source": [
        "d = create_discriminator()\n",
        "d.summary()"
      ],
      "execution_count": 22,
      "outputs": [
        {
          "output_type": "stream",
          "text": [
            "Model: \"sequential_3\"\n",
            "_________________________________________________________________\n",
            "Layer (type)                 Output Shape              Param #   \n",
            "=================================================================\n",
            "dense_12 (Dense)             (None, 1024)              803840    \n",
            "_________________________________________________________________\n",
            "re_lu_9 (ReLU)               (None, 1024)              0         \n",
            "_________________________________________________________________\n",
            "dropout (Dropout)            (None, 1024)              0         \n",
            "_________________________________________________________________\n",
            "dense_13 (Dense)             (None, 512)               524800    \n",
            "_________________________________________________________________\n",
            "re_lu_10 (ReLU)              (None, 512)               0         \n",
            "_________________________________________________________________\n",
            "dropout_1 (Dropout)          (None, 512)               0         \n",
            "_________________________________________________________________\n",
            "dense_14 (Dense)             (None, 256)               131328    \n",
            "_________________________________________________________________\n",
            "re_lu_11 (ReLU)              (None, 256)               0         \n",
            "_________________________________________________________________\n",
            "dense_15 (Dense)             (None, 1)                 257       \n",
            "=================================================================\n",
            "Total params: 1,460,225\n",
            "Trainable params: 1,460,225\n",
            "Non-trainable params: 0\n",
            "_________________________________________________________________\n"
          ],
          "name": "stdout"
        }
      ]
    },
    {
      "cell_type": "markdown",
      "metadata": {
        "id": "CuXLSBM41hV7"
      },
      "source": [
        "GAN'S"
      ]
    },
    {
      "cell_type": "code",
      "metadata": {
        "id": "GHPlKL5u1eAN"
      },
      "source": [
        "def create_gan(discriminator, generator):\n",
        "  discriminator.trainable = False\n",
        "  gan_input = Input(shape=(100,))\n",
        "  x=generator(gan_input)\n",
        "  gan_output = discriminator(x)\n",
        "  gan = Model( inputs = gan_input , outputs = gan_output)\n",
        "  gan.compile(loss='binary_crossentropy',optimizer='adam')\n",
        "  return gan"
      ],
      "execution_count": 23,
      "outputs": []
    },
    {
      "cell_type": "code",
      "metadata": {
        "colab": {
          "base_uri": "https://localhost:8080/"
        },
        "id": "2jIgTHjT2kcM",
        "outputId": "6ebb9737-1ec8-46f1-f248-8c33001a4657"
      },
      "source": [
        "gan = create_gan(d,g)\n",
        "gan.summary()"
      ],
      "execution_count": 24,
      "outputs": [
        {
          "output_type": "stream",
          "text": [
            "Model: \"model\"\n",
            "_________________________________________________________________\n",
            "Layer (type)                 Output Shape              Param #   \n",
            "=================================================================\n",
            "input_1 (InputLayer)         [(None, 100)]             0         \n",
            "_________________________________________________________________\n",
            "sequential_2 (Sequential)    (None, 784)               1643280   \n",
            "_________________________________________________________________\n",
            "sequential_3 (Sequential)    (None, 1)                 1460225   \n",
            "=================================================================\n",
            "Total params: 3,103,505\n",
            "Trainable params: 1,643,280\n",
            "Non-trainable params: 1,460,225\n",
            "_________________________________________________________________\n"
          ],
          "name": "stdout"
        }
      ]
    },
    {
      "cell_type": "code",
      "metadata": {
        "colab": {
          "base_uri": "https://localhost:8080/"
        },
        "id": "jZztAygG20Z1",
        "outputId": "2b7e6a84-02d3-4a34-827a-f53f8417a5ef"
      },
      "source": [
        "epochs= 50\n",
        "batch_size = 256\n",
        "\n",
        "for i in range(epochs):\n",
        "  for _ in range(batch_size):\n",
        "    noise = np.random.normal(0,1,[batch_size,100])\n",
        "    generated_images = g.predict(noise)\n",
        "\n",
        "    image_batch  = x_train[np.random.randint(low = 0, high= x_train.shape[0], size= batch_size)]\n",
        "\n",
        "    x = np.concatenate([image_batch,generated_images])\n",
        "    \n",
        "    y_dis = np.zeros(batch_size*2)\n",
        "    y_dis[:batch_size] = 1\n",
        "\n",
        "    d.trainable = True\n",
        "    d.train_on_batch(x,y_dis)\n",
        "    noise = np.random.normal(0,1,[batch_size,100])\n",
        "    y_gen = np.ones(batch_size)\n",
        "    d.trainable  =False\n",
        "     \n",
        "    gan.train_on_batch(noise, y_gen)\n",
        "\n",
        "  print('epoch:' ,i)\n"
      ],
      "execution_count": 27,
      "outputs": [
        {
          "output_type": "stream",
          "text": [
            "epoch: 0\n",
            "epoch: 1\n",
            "epoch: 2\n",
            "epoch: 3\n",
            "epoch: 4\n",
            "epoch: 5\n",
            "epoch: 6\n",
            "epoch: 7\n",
            "epoch: 8\n",
            "epoch: 9\n",
            "epoch: 10\n",
            "epoch: 11\n",
            "epoch: 12\n",
            "epoch: 13\n",
            "epoch: 14\n",
            "epoch: 15\n",
            "epoch: 16\n",
            "epoch: 17\n",
            "epoch: 18\n",
            "epoch: 19\n",
            "epoch: 20\n",
            "epoch: 21\n",
            "epoch: 22\n",
            "epoch: 23\n",
            "epoch: 24\n",
            "epoch: 25\n",
            "epoch: 26\n",
            "epoch: 27\n",
            "epoch: 28\n",
            "epoch: 29\n",
            "epoch: 30\n",
            "epoch: 31\n",
            "epoch: 32\n",
            "epoch: 33\n",
            "epoch: 34\n",
            "epoch: 35\n",
            "epoch: 36\n",
            "epoch: 37\n",
            "epoch: 38\n",
            "epoch: 39\n",
            "epoch: 40\n",
            "epoch: 41\n",
            "epoch: 42\n",
            "epoch: 43\n",
            "epoch: 44\n",
            "epoch: 45\n",
            "epoch: 46\n",
            "epoch: 47\n",
            "epoch: 48\n",
            "epoch: 49\n"
          ],
          "name": "stdout"
        }
      ]
    }
  ]
}